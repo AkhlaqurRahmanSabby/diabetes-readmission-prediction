{
 "cells": [
  {
   "cell_type": "markdown",
   "metadata": {},
   "source": [
    "**<center>===========================================================================================================</center>**\n",
    "**<center>All Necessary Imports</center>**\n",
    "**<center>===========================================================================================================</center>**"
   ]
  },
  {
   "cell_type": "code",
   "execution_count": 7,
   "metadata": {},
   "outputs": [],
   "source": [
    "import json\n",
    "import numpy as np\n",
    "import pandas as pd\n",
    "import matplotlib.pyplot as plt\n",
    "import psutil\n",
    "from collections import Counter\n",
    "from joblib import Parallel, delayed, parallel_backend\n",
    "from sklearn.decomposition import PCA\n",
    "from sklearn.feature_selection import SelectKBest, f_classif, RFECV\n",
    "from sklearn.model_selection import StratifiedKFold\n",
    "from sklearn.preprocessing import LabelEncoder\n",
    "from sklearn.ensemble import RandomForestClassifier"
   ]
  },
  {
   "cell_type": "markdown",
   "metadata": {},
   "source": [
    "**<center>===========================================================================================================</center>**\n",
    "**<center>Check Available Resources & Load the Data</center>**\n",
    "**<center>===========================================================================================================</center>**"
   ]
  },
  {
   "cell_type": "code",
   "execution_count": 8,
   "metadata": {},
   "outputs": [
    {
     "name": "stdout",
     "output_type": "stream",
     "text": [
      "Total number of CPU cores: 32\n",
      "CPU utilization per core: [1.5, 1.6, 2.6, 0.2, 2.4, 0.2, 2.2, 1.6, 41.7, 57.1, 44.8, 47.1, 2.5, 0.2, 2.7, 0.4, 0.9, 0.7, 0.6, 0.5, 0.4, 0.4, 0.5, 0.3, 0.4, 0.3, 0.3, 0.4, 0.3, 0.3, 0.4, 0.5]\n",
      "Number of free CPU cores: 28\n"
     ]
    }
   ],
   "source": [
    "num_cores = psutil.cpu_count(logical=True)\n",
    "cpu_percent_per_core = psutil.cpu_percent(percpu=True)\n",
    "\n",
    "print(f\"Total number of CPU cores: {num_cores}\")\n",
    "print(f\"CPU utilization per core: {cpu_percent_per_core}\")\n",
    "\n",
    "threshold = 30.0\n",
    "free_cores = sum(1 for percent in cpu_percent_per_core if percent < threshold)\n",
    "print(f\"Number of free CPU cores: {free_cores}\")\n",
    "\n",
    "data = pd.read_csv('data/processed/one_hot_encoded_data.csv')\n",
    "\n",
    "with open('data/processed/feature_categories.json') as f:\n",
    "    feature_categories = json.load(f)\n",
    "\n",
    "continuous_features = feature_categories['continuous_features']\n",
    "categorical_features = feature_categories['categorical_features']\n",
    "target = feature_categories['target']\n",
    "features = data.drop(columns=['readmitted'])\n",
    "target = data['readmitted']\n",
    "\n",
    "# Sanitize feature names\n",
    "features.columns = [col.replace('[', '').replace(']', '').replace('<', '').replace('>', '').replace(' ', '_') for col in features.columns]\n",
    "\n",
    "label_encoder = LabelEncoder() # Encode the target variable\n",
    "target = label_encoder.fit_transform(target)"
   ]
  },
  {
   "cell_type": "markdown",
   "metadata": {},
   "source": [
    "**<center>===========================================================================================================</center>**\n",
    "**<center>Class Imbalance Check</center>**\n",
    "**<center>===========================================================================================================</center>**"
   ]
  },
  {
   "cell_type": "code",
   "execution_count": 9,
   "metadata": {},
   "outputs": [
    {
     "name": "stdout",
     "output_type": "stream",
     "text": [
      "Class counts: \n",
      "readmitted\n",
      "NO     39280\n",
      "YES    27312\n",
      "Name: count, dtype: int64\n",
      "Proportion of 'NO': 58.99%\n",
      "Proportion of 'YES': 41.01%\n"
     ]
    },
    {
     "data": {
      "image/png": "[encoded data removed]",
      "text/plain": [
       "<Figure size 640x480 with 1 Axes>"
      ]
     },
     "metadata": {},
     "output_type": "display_data"
    }
   ],
   "source": [
    "class_counts = data['readmitted'].value_counts()\n",
    "total = class_counts.sum()\n",
    "no_proportion = (class_counts['NO'] / total) * 100\n",
    "yes_proportion = class_counts['YES'] / total * 100\n",
    "\n",
    "print(f\"Class counts: \\n{class_counts}\")\n",
    "print(f\"Proportion of 'NO': {no_proportion:.2f}%\")\n",
    "print(f\"Proportion of 'YES': {yes_proportion:.2f}%\")\n",
    "\n",
    "class_counts.plot(kind='bar')\n",
    "\n",
    "plt.xlabel('Class')\n",
    "plt.ylabel('Frequency')\n",
    "plt.title('Class Distribution')\n",
    "plt.show()"
   ]
  },
  {
   "cell_type": "markdown",
   "metadata": {},
   "source": [
    "**<center>===========================================================================================================</center>**\n",
    "**<center>ANOVA F-Test</center>**\n",
    "**<center>===========================================================================================================</center>**"
   ]
  },
  {
   "cell_type": "code",
   "execution_count": 10,
   "metadata": {},
   "outputs": [
    {
     "name": "stdout",
     "output_type": "stream",
     "text": [
      "0 features were dropped.\n",
      "6 features were selected based on p-value threshold.\n"
     ]
    }
   ],
   "source": [
    "select_k_best = SelectKBest(f_classif, k='all')\n",
    "select_k_best.fit(features[continuous_features], target)\n",
    "p_values = select_k_best.pvalues_\n",
    "\n",
    "p_threshold = 0.05 # p-value threshold for significance\n",
    "selected_indices = [i for i, p_value in enumerate(p_values) if p_value < p_threshold]\n",
    "selected_features_names = features[continuous_features].columns[selected_indices]\n",
    "\n",
    "dropped_features_names = [feature for i, feature in enumerate(features[continuous_features].columns) if i not in selected_indices]\n",
    "features = features.drop(columns=dropped_features_names)\n",
    "dropped_count = len(dropped_features_names)\n",
    "selected_count = len(selected_features_names)\n",
    "\n",
    "print(f\"{dropped_count} features were dropped.\")\n",
    "print(f\"{selected_count} features were selected based on p-value threshold.\")"
   ]
  },
  {
   "cell_type": "markdown",
   "metadata": {},
   "source": [
    "**<center>===========================================================================================================</center>**\n",
    "**<center>PCA Analysis</center>**\n",
    "**<center>===========================================================================================================</center>**"
   ]
  },
  {
   "cell_type": "code",
   "execution_count": 11,
   "metadata": {},
   "outputs": [
    {
     "name": "stdout",
     "output_type": "stream",
     "text": [
      "Original number of components: 6\n",
      "Number of components retained: 6\n",
      "Shape of the transformed DataFrame: (66592, 2255)\n",
      "Explained Variance Ratio of each Principal Component:\n",
      "['PC1: 0.3121', 'PC2: 0.1824', 'PC3: 0.1629', 'PC4: 0.1403', 'PC5: 0.1120', 'PC6: 0.0902']\n",
      "\n",
      "Cumulative Explained Variance:\n",
      "['PC1: 0.3121', 'PC2: 0.4946', 'PC3: 0.6575', 'PC4: 0.7978', 'PC5: 0.9098', 'PC6: 1.0000']\n"
     ]
    },
    {
     "data": {
      "image/png": "[encoded data removed]",
      "text/plain": [
       "<Figure size 1000x600 with 1 Axes>"
      ]
     },
     "metadata": {},
     "output_type": "display_data"
    }
   ],
   "source": [
    "pca = PCA(n_components=0.95)\n",
    "pca_transformed_array = pca.fit_transform(features[continuous_features])\n",
    "pca_transformed_df = pd.DataFrame(pca_transformed_array, columns=[f\"PC{i+1}\" for i in range(pca_transformed_array.shape[1])])\n",
    "\n",
    "original_components = features[continuous_features].shape[1]\n",
    "retained_components = pca_transformed_df.shape[1]\n",
    "\n",
    "print(f\"Original number of components: {original_components}\")\n",
    "print(f\"Number of components retained: {retained_components}\")\n",
    "print(f\"Shape of the transformed DataFrame: {features.shape}\")\n",
    "\n",
    "explained_variance_ratio = pca.explained_variance_ratio_\n",
    "explained_variance_ratio_list = [f\"PC{i+1}: {ratio:.4f}\" for i, ratio in enumerate(explained_variance_ratio)]\n",
    "cumulative_explained_variance = explained_variance_ratio.cumsum()\n",
    "cumulative_explained_variance_list = [f\"PC{i+1}: {cumulative_ratio:.4f}\" for i, cumulative_ratio in enumerate(cumulative_explained_variance)]\n",
    "\n",
    "print(\"Explained Variance Ratio of each Principal Component:\")\n",
    "print(f\"{explained_variance_ratio_list}\")\n",
    "print(\"\\nCumulative Explained Variance:\")\n",
    "print(f\"{cumulative_explained_variance_list}\")\n",
    "\n",
    "plt.figure(figsize=(10, 6))\n",
    "plt.bar(range(1, len(explained_variance_ratio) + 1), explained_variance_ratio, alpha=0.7, align='center', color='#FFA500')\n",
    "plt.xlabel('Principal Component')\n",
    "plt.ylabel('Explained Variance Ratio')\n",
    "plt.title('Explained Variance Ratio by Principal Components')\n",
    "plt.show()"
   ]
  },
  {
   "cell_type": "markdown",
   "metadata": {},
   "source": [
    "**<center>===========================================================================================================</center>**\n",
    "**<center>RFECV Feature Selection</center>**\n",
    "**<center>===========================================================================================================</center>**"
   ]
  },
  {
   "cell_type": "code",
   "execution_count": null,
   "metadata": {},
   "outputs": [
    {
     "name": "stdout",
     "output_type": "stream",
     "text": [
      "Iteration 3/10 started with seed 7982\n",
      "Iteration 1/10 started with seed 3777\n",
      "Iteration 2/10 started with seed 2176\n",
      "Iteration 7/10 started with seed 4665\n",
      "Iteration 5/10 started with seed 2740\n",
      "Iteration 8/10 started with seed 9913\n",
      "Iteration 10/10 started with seed 2806\n",
      "Iteration 9/10 started with seed 2345\n",
      "Iteration 4/10 started with seed 7178\n",
      "Iteration 6/10 started with seed 2519\n"
     ]
    }
   ],
   "source": [
    "def run_rfecv(seed, iteration, total_iterations, features, target):\n",
    "    np.random.seed(seed)\n",
    "\n",
    "    print(f\"Iteration {iteration + 1}/{total_iterations} started with seed {seed}\")\n",
    "    \n",
    "    rfecv = RFECV(estimator=RandomForestClassifier(), step=1, cv=StratifiedKFold(n_splits=5, shuffle=True, random_state=seed), scoring='accuracy', verbose=0)\n",
    "    features_copy = features.copy()\n",
    "    target_copy = target.copy()\n",
    "    \n",
    "    rfecv.fit(features_copy, target_copy)\n",
    "    optimal_features = list(features.columns[np.where(rfecv.ranking_ == 1)[0]])\n",
    "    \n",
    "    print(f\"Iteration {iteration + 1}/{total_iterations} completed.\")\n",
    "    return optimal_features\n",
    "\n",
    "num_iterations = 10\n",
    "seeds = np.random.randint(0, 10000, size=num_iterations)\n",
    "\n",
    "with parallel_backend('loky', inner_max_num_threads=1):\n",
    "    selected_features_list = Parallel(n_jobs=free_cores)(\n",
    "        delayed(run_rfecv)(seed, i, num_iterations, features, target) for i, seed in enumerate(seeds)\n",
    "    )"
   ]
  },
  {
   "cell_type": "code",
   "execution_count": null,
   "metadata": {},
   "outputs": [],
   "source": [
    "# Analyze Feature Selection Stability\n",
    "feature_counter = Counter([item for sublist in selected_features_list for item in sublist])\n",
    "features_frequency_df = pd.DataFrame.from_dict(feature_counter, orient='index', columns=['Frequency']).sort_values(by='Frequency', ascending=False)\n",
    "\n",
    "print(f\"Feature selection stability: {feature_counter}\")\n",
    "print(f\"Features frequency DataFrame:\\n{features_frequency_df}\")\n",
    "\n",
    "threshold = num_iterations * 0.60\n",
    "stable_features = features_frequency_df[features_frequency_df['Frequency'] >= threshold].index.tolist()\n",
    "\n",
    "print(f\"Stable features: {stable_features}\")\n",
    "print(f\"Total features pre-RFE = {features.shape[1]}\")\n",
    "print(f\"Total features post-RFE = {features[stable_features].shape[1]}\")"
   ]
  },
  {
   "cell_type": "markdown",
   "metadata": {},
   "source": [
    "**<center>===========================================================================================================</center>**\n",
    "**<center>Saving the Final Selected Features for Next Stage</center>**\n",
    "**<center>===========================================================================================================</center>**"
   ]
  },
  {
   "cell_type": "code",
   "execution_count": null,
   "metadata": {},
   "outputs": [],
   "source": [
    "selected_features_df = features[stable_features]\n",
    "selected_features_df.loc[:, 'target'] = target\n",
    "selected_features_df.to_csv('data/processed/selected_features.csv', index=False)"
   ]
  }
 ],
 "metadata": {
  "kernelspec": {
   "display_name": "Python 3",
   "language": "python",
   "name": "python3"
  },
  "language_info": {
   "codemirror_mode": {
    "name": "ipython",
    "version": 3
   },
   "file_extension": ".py",
   "mimetype": "text/x-python",
   "name": "python",
   "nbconvert_exporter": "python",
   "pygments_lexer": "ipython3",
   "version": "3.12.3"
  }
 },
 "nbformat": 4,
 "nbformat_minor": 2
}
